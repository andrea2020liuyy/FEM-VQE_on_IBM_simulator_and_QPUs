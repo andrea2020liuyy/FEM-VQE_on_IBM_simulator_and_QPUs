{
 "cells": [
  {
   "cell_type": "code",
   "execution_count": null,
   "metadata": {},
   "outputs": [],
   "source": [
    "%run VQAs_packages.ipynb"
   ]
  },
  {
   "cell_type": "code",
   "execution_count": null,
   "metadata": {},
   "outputs": [
    {
     "name": "stdout",
     "output_type": "stream",
     "text": [
      "Total Free DOF is 8192, prescribed DOF is 44\n"
     ]
    }
   ],
   "source": [
    "targetDOF = 8192\n",
    "%run FEM_lumped_system_for_PlaneStrain.ipynb"
   ]
  },
  {
   "cell_type": "code",
   "execution_count": null,
   "metadata": {},
   "outputs": [
    {
     "name": "stdout",
     "output_type": "stream",
     "text": [
      "condition number of normalized Hamiltonian:  137.62684683415335\n",
      "L2 norm of normalized Hamiltonian:  1.0\n",
      "The Hamiltonian is a 8192x8192 matrix for 13 qubits with a total of 8192 DOF\n"
     ]
    }
   ],
   "source": [
    "H = np.linalg.inv(M)*K\n",
    "\n",
    "Test_A = H/np.linalg.norm(H)\n",
    "print('condition number of normalized Hamiltonian: ', la.cond(Test_A))\n",
    "print('L2 norm of normalized Hamiltonian: ', np.linalg.norm(Test_A))\n",
    "\n",
    "qubitOp = MatrixOp(primitive=Test_A)\n",
    "qubits = qubitOp.num_qubits\n",
    "print(f\"The Hamiltonian is a {2**qubits}x{2**qubits} matrix for {qubits} qubits with a total of {2**qubits} DOF\")"
   ]
  },
  {
   "cell_type": "code",
   "execution_count": null,
   "metadata": {},
   "outputs": [
    {
     "name": "stdout",
     "output_type": "stream",
     "text": [
      "Reference value: 0.0003187112\n"
     ]
    }
   ],
   "source": [
    "npme = NumPyMinimumEigensolver()\n",
    "result = npme.compute_minimum_eigenvalue(operator=qubitOp)\n",
    "ref_value = result.eigenvalue.real\n",
    "print(f'Reference value: {ref_value:.10f}')"
   ]
  },
  {
   "cell_type": "code",
   "execution_count": null,
   "metadata": {},
   "outputs": [
    {
     "name": "stdout",
     "output_type": "stream",
     "text": [
      " var_form_depth: 10        0.000356784234567499\n",
      "Optimization complete      \n",
      "runtime (s): 50096.21796798706\n"
     ]
    }
   ],
   "source": [
    "# Convergence of VQE VQESolver with a set of optimizers\n",
    "\n",
    "start_time = time.time()\n",
    "warnings.filterwarnings(\"ignore\")\n",
    "\n",
    "rngseed = 0\n",
    "max_iteration = 1e5\n",
    "tolerance = 1e-4\n",
    "shots = 1e5\n",
    "optimizer = COBYLA(maxiter=max_iteration)\n",
    "\n",
    "# var_form_depths = [3, 6, 10]\n",
    "var_form_depths = [10]\n",
    "converge_cnts = np.empty([len(var_form_depths)], dtype=object)\n",
    "converge_vals = np.empty([len(var_form_depths)], dtype=object)\n",
    "vqe_result = np.empty([len(var_form_depths)], dtype=object)\n",
    "\n",
    "mode = 'Layers'\n",
    "name = f'VQE_Convergence_PlaneStrain_lumped_{qubits}Q_{mode}{var_form_depths[0]}_data.txt'\n",
    "path_convergence_layers = r'C:\\\\temp\\\\' + str(name)\n",
    "\n",
    "with open(path_convergence_layers, 'a') as f:\n",
    "    f.write(\"{1}{0}\".format(str(qubits), 'Qubits Number: '))\n",
    "    f.write('\\n')\n",
    "\n",
    "for i, var_form_depth in enumerate(var_form_depths):\n",
    "    print('\\r var_form_depth: {}        '.format(str(var_form_depth)), end='')\n",
    "    algorithm_globals.random_seed = rngseed\n",
    "    var_form = TwoLocal(qubitOp.num_qubits, ['rz', 'ry'], 'cz', entanglement = 'full', reps = var_form_depth)\n",
    "    backend = Aer.get_backend('statevector_simulator', max_parallel_threads=6, max_parallel_experiments=0)    \n",
    "    q_instance = QuantumInstance(backend, shots=shots, seed_transpiler=rngseed, seed_simulator=rngseed)\n",
    "    \n",
    "    counts = []\n",
    "    values = []\n",
    "    def store_intermediate_result(eval_count, parameters, mean, std):\n",
    "        counts.append(eval_count)\n",
    "        values.append(mean)\n",
    "\n",
    "    vqe = VQE(ansatz=var_form, optimizer=optimizer, quantum_instance=q_instance, callback=store_intermediate_result)\n",
    "    result = vqe.compute_minimum_eigenvalue(operator=qubitOp)\n",
    "    vqe_result[i] = np.real(result.eigenvalue)\n",
    "    print(vqe_result[i])\n",
    "    converge_cnts[i] = np.asarray(counts)\n",
    "    converge_vals[i] = np.asarray(values)\n",
    "    with open(path_convergence_layers, 'a') as f:\n",
    "        f.write(\"{1}{0}\".format(str(var_form_depth), 'var_form_depth: '))\n",
    "        f.write('\\n')\n",
    "        f.write(\"{1}{0}\".format(str(vqe_result[i]), 'vqe_result: '))\n",
    "    print('\\rOptimization complete      ')\n",
    "\n",
    "end_time = time.time()\n",
    "runtime = end_time-start_time\n",
    "print('runtime (s):', runtime)\n"
   ]
  },
  {
   "cell_type": "code",
   "execution_count": null,
   "metadata": {},
   "outputs": [
    {
     "name": "stdout",
     "output_type": "stream",
     "text": [
      "100000\n"
     ]
    }
   ],
   "source": [
    "# Save Convergence Data to Excel\n",
    "\n",
    "np.set_printoptions(threshold=sys.maxsize)\n",
    "\n",
    "max_len = [len(converge_cnts[i]) for i in range(len(var_form_depths))]\n",
    "p = max(max_len)\n",
    "print(p)\n",
    "\n",
    "A = converge_cnts[0]\n",
    "A_pad = np.pad(A, (0, p - len(A)), constant_values=0)\n",
    "data1 = np.hstack((A_pad))\n",
    "\n",
    "B = converge_vals[0]\n",
    "B_pad = np.pad(B, (0, p - len(B)), constant_values=min(B))\n",
    "data2 = np.hstack((B_pad))\n",
    "                   \n",
    "data = np.hstack((data1, data2))\n",
    "\n",
    "excel_name = f'VQE_Convergence_PlaneStrain_lumped_{qubits}Q_{mode}{var_form_depths[0]}_data.xlsx'\n",
    "path_to_excel = r'C:\\\\temp\\\\' + str(excel_name)\n",
    "\n",
    "ix = np.empty(len(converge_cnts[0]), dtype=object)\n",
    "df = np.empty(len(converge_vals[0]), dtype=object)\n",
    "\n",
    "dict_columns = dict( {'A': data[0:p-1], 'B': data[p:2*p-1]})\n",
    "data = pd.DataFrame(dict_columns)\n",
    "data.to_excel(path_to_excel, sheet_name='Sheet1', index=False, header=True)"
   ]
  },
  {
   "cell_type": "code",
   "execution_count": null,
   "metadata": {},
   "outputs": [],
   "source": [
    "# Find Minimum of converged data, get error compared to ref_value\n",
    "\n",
    "file = pd.read_excel(path_to_excel)\n",
    "\n",
    "Min = np.array([min(file['B'])])\n",
    "errors = [(val - ref_value)*100/ref_value for val in Min]\n",
    "datas = np.hstack((ref_value, errors))\n",
    "print(errors)\n",
    "\n",
    "error_name = f'VQE_Convergence_PlaneStrain_lumped_{qubits}Q_{mode}{var_form_depths[0]}_data_error.xlsx'\n",
    "path_to_errors = r'C:\\\\temp\\\\' + str(error_name)\n",
    "\n",
    "dict_errors = dict({'A': datas})\n",
    "errors_fig = pd.DataFrame(dict_errors)\n",
    "errors_fig.to_excel(path_to_errors, sheet_name='Sheet1', index=False, header=True)"
   ]
  },
  {
   "cell_type": "code",
   "execution_count": null,
   "metadata": {},
   "outputs": [],
   "source": [
    "# Direct plot from data stored in Python\n",
    "\n",
    "pylab.rcParams['figure.figsize'] = (10,8)\n",
    "fig = plt.figure(dpi=600)\n",
    "ax = fig.add_subplot(2, 1, 1)\n",
    "\n",
    "for i, var_form_depth in enumerate(var_form_depths):\n",
    "    pylab.plot(converge_cnts[i], converge_vals[i], label='depth: '+str(var_form_depth))\n",
    "pylab.yscale('log')\n",
    "\n",
    "xlimit = 4000\n",
    "pylab.xlim(0, xlimit)\n",
    "\n",
    "csfont = {'fontname':'Times New Roman'}\n",
    "pylab.title('Classical Optimizer: COBYLA, Entanglement Pattern: CZ', **csfont, size=18)\n",
    "pylab.xlabel('iteration times', **csfont, size=18)\n",
    "pylab.ylabel('eigenvalue estimate', **csfont, size=18)\n",
    "\n",
    "ticks_font = fm.FontProperties(\n",
    "    family='Times New Roman', style='normal', size=16, weight='normal', stretch='normal')\n",
    "for label in pylab.gca().get_xticklabels (): # get current axes\n",
    "    label.set_fontproperties(ticks_font)\n",
    "for label in pylab.gca().get_yticklabels ():\n",
    "    label.set_fontproperties(ticks_font)\n",
    "pylab.gca().yaxis.set_ticklabels([])\n",
    "\n",
    "props = dict({'size': 16, 'family': 'Times New Roman', 'weight': 'normal', 'style': 'normal'})\n",
    "pylab.legend(loc='best', prop=props)\n",
    "\n",
    "pylab.show()"
   ]
  },
  {
   "cell_type": "code",
   "execution_count": null,
   "metadata": {},
   "outputs": [],
   "source": [
    "# Draw data from Excel and plot\n",
    "\n",
    "pylab.rcParams['figure.figsize'] = (10,8)\n",
    "fig = plt.figure(dpi=600)\n",
    "ax = fig.add_subplot(2, 1, 2)\n",
    "\n",
    "file = pd.read_excel(path_to_excel)\n",
    "x = np.array([file['A'], file['B'], file['C']])\n",
    "y = np.array([file['D'], file['E'], file['F']])\n",
    "\n",
    "for i, var_form_depth in enumerate(var_form_depths):\n",
    "    pylab.plot(x[i], y[i], label='depth: '+str(var_form_depth))\n",
    "# pylab.xscale('log')\n",
    "pylab.yscale('log')\n",
    "\n",
    "xlimit = 4000\n",
    "pylab.xlim(0, xlimit)\n",
    "\n",
    "csfont = {'fontname':'Times New Roman'}\n",
    "pylab.title('Classical Optimizer: COBYLA, Entanglement Pattern: CZ', **csfont, size=12)\n",
    "pylab.xlabel('iteration times', **csfont, size=12)\n",
    "pylab.ylabel('eigenvalue estimate', **csfont, size=12)\n",
    "\n",
    "ticks_font = fm.FontProperties(\n",
    "    family='Times New Roman', style='normal', size=10, weight='normal', stretch='normal')\n",
    "for label in pylab.gca().get_xticklabels (): # get current axes\n",
    "    label.set_fontproperties(ticks_font)\n",
    "for label in pylab.gca().get_yticklabels ():\n",
    "    label.set_fontproperties(ticks_font)\n",
    "    \n",
    "pylab.gca().yaxis.set_ticklabels([])\n",
    "\n",
    "props = dict({'size': 10, 'family': 'Times New Roman', 'weight': 'normal', 'style': 'normal'})\n",
    "pylab.legend(loc='best', prop=props)\n",
    "\n",
    "path_save_fig = 'C:/temp/fig.png'\n",
    "pylab.savefig (path_save_fig)\n",
    "\n",
    "pylab.show()"
   ]
  },
  {
   "cell_type": "code",
   "execution_count": null,
   "metadata": {},
   "outputs": [],
   "source": [
    "# Monitor via logging\n",
    "\n",
    "import logging\n",
    "logging.basicConfig(level=logging.INFO) # set the logging level to INFO\n",
    "logging.getLogger('qiskit.algorithms.minimum_eigen_solvers.vqe').setLevel(logging.INFO)\n",
    "\n",
    "# This will generate detailed log files"
   ]
  }
 ],
 "metadata": {
  "kernelspec": {
   "display_name": "Python 3",
   "language": "python",
   "name": "python3"
  },
  "language_info": {
   "codemirror_mode": {
    "name": "ipython",
    "version": 3
   },
   "file_extension": ".py",
   "mimetype": "text/x-python",
   "name": "python",
   "nbconvert_exporter": "python",
   "pygments_lexer": "ipython3",
   "version": "3.11.2"
  },
  "orig_nbformat": 4,
  "vscode": {
   "interpreter": {
    "hash": "7553800ae8f8f93b734041eafe9da0761c8bee69fc6014b3b1568507cb22f014"
   }
  }
 },
 "nbformat": 4,
 "nbformat_minor": 2
}
