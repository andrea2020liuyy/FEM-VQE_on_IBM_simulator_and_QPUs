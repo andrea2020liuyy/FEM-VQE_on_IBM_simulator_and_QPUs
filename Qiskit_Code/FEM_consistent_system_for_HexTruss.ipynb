**Please contact the collaborator: jiakun@seas.upenn.edu**
